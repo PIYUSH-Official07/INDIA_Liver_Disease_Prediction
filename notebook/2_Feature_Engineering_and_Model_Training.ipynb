{
 "cells": [
  {
   "cell_type": "markdown",
   "metadata": {
    "id": "4437a980"
   },
   "source": [
    "# Data Pre-Processing"
   ]
  },
  {
   "cell_type": "markdown",
   "metadata": {
    "id": "74b4d7e0"
   },
   "source": [
    "#### Import Packages and CSV"
   ]
  },
  {
   "cell_type": "code",
   "execution_count": 1,
   "metadata": {
    "id": "5530cc59",
    "outputId": "5fa0529c-5adf-480a-b56f-116e14b8514e"
   },
   "outputs": [
    {
     "name": "stderr",
     "output_type": "stream",
     "text": [
      "D:\\Anaconda3\\lib\\site-packages\\pandas\\compat\\_optional.py:138: UserWarning: Pandas requires version '2.7.0' or newer of 'numexpr' (version '2.6.9' currently installed).\n",
      "  warnings.warn(msg, UserWarning)\n"
     ]
    },
    {
     "name": "stdout",
     "output_type": "stream",
     "text": [
      "(583, 11)\n"
     ]
    }
   ],
   "source": [
    "import pandas as pd\n",
    "import numpy as np\n",
    "import matplotlib.pyplot as plt\n",
    "import seaborn as sns\n",
    "import warnings\n",
    "warnings.filterwarnings(\"ignore\")\n",
    "pd.pandas.set_option(\"display.max_columns\", None)\n",
    "# Create Dataframe\n",
    "df = pd.read_csv(r\"indian_liver_patient.csv\")\n",
    "# Print shape of dataset\n",
    "print(df.shape)"
   ]
  },
  {
   "cell_type": "markdown",
   "metadata": {
    "id": "c27265bd"
   },
   "source": [
    "## Data Cleaning"
   ]
  },
  {
   "cell_type": "markdown",
   "metadata": {
    "id": "dbad805a"
   },
   "source": [
    "### Handling Missing values"
   ]
  },
  {
   "cell_type": "markdown",
   "metadata": {
    "id": "0a0c1c0d"
   },
   "source": [
    "* Handling Missing values \n",
    "* Handling Duplicates\n",
    "* Check data type\n",
    "* Understand the dataset"
   ]
  },
  {
   "cell_type": "markdown",
   "metadata": {
    "id": "40b4a428"
   },
   "source": [
    "#### Check Null Values"
   ]
  },
  {
   "cell_type": "code",
   "execution_count": 2,
   "metadata": {},
   "outputs": [
    {
     "data": {
      "text/plain": [
       "Age                           0\n",
       "Gender                        0\n",
       "Total_Bilirubin               0\n",
       "Direct_Bilirubin              0\n",
       "Alkaline_Phosphotase          0\n",
       "Alamine_Aminotransferase      0\n",
       "Aspartate_Aminotransferase    0\n",
       "Total_Protiens                0\n",
       "Albumin                       0\n",
       "Albumin_and_Globulin_Ratio    4\n",
       "Dataset                       0\n",
       "dtype: int64"
      ]
     },
     "execution_count": 2,
     "metadata": {},
     "output_type": "execute_result"
    }
   ],
   "source": [
    "df.isnull().sum()"
   ]
  },
  {
   "cell_type": "code",
   "execution_count": 3,
   "metadata": {
    "id": "2b94aa8f"
   },
   "outputs": [
    {
     "name": "stdout",
     "output_type": "stream",
     "text": [
      "Albumin_and_Globulin_Ratio 0.68611 % missing values\n"
     ]
    }
   ],
   "source": [
    "##these are the features with nan value\n",
    "features_with_na=[features for features in df.columns if df[features].isnull().sum()>=1]\n",
    "for feature in features_with_na:\n",
    "    print(feature,np.round(df[feature].isnull().mean()*100,5), '% missing values')"
   ]
  },
  {
   "cell_type": "code",
   "execution_count": 4,
   "metadata": {},
   "outputs": [
    {
     "data": {
      "text/plain": [
       "['Albumin_and_Globulin_Ratio']"
      ]
     },
     "execution_count": 4,
     "metadata": {},
     "output_type": "execute_result"
    }
   ],
   "source": [
    "features_with_na"
   ]
  },
  {
   "cell_type": "markdown",
   "metadata": {
    "id": "31bb11b3"
   },
   "source": [
    "* ****We can see that there are 4 null values in the Albumin and Globulin Ratio column.****\n",
    "### Filling null values\n",
    "\n",
    "Let us fill these null values by imputing the mean of that column."
   ]
  },
  {
   "cell_type": "code",
   "execution_count": 5,
   "metadata": {},
   "outputs": [
    {
     "data": {
      "text/plain": [
       "0.9470639032815201"
      ]
     },
     "execution_count": 5,
     "metadata": {},
     "output_type": "execute_result"
    }
   ],
   "source": [
    "mean_ratio = df['Albumin_and_Globulin_Ratio'].mean()\n",
    "mean_ratio"
   ]
  },
  {
   "cell_type": "code",
   "execution_count": 6,
   "metadata": {},
   "outputs": [],
   "source": [
    "df = df.fillna(mean_ratio)"
   ]
  },
  {
   "cell_type": "code",
   "execution_count": 7,
   "metadata": {},
   "outputs": [
    {
     "data": {
      "text/plain": [
       "Age                           0\n",
       "Gender                        0\n",
       "Total_Bilirubin               0\n",
       "Direct_Bilirubin              0\n",
       "Alkaline_Phosphotase          0\n",
       "Alamine_Aminotransferase      0\n",
       "Aspartate_Aminotransferase    0\n",
       "Total_Protiens                0\n",
       "Albumin                       0\n",
       "Albumin_and_Globulin_Ratio    0\n",
       "Dataset                       0\n",
       "dtype: int64"
      ]
     },
     "execution_count": 7,
     "metadata": {},
     "output_type": "execute_result"
    }
   ],
   "source": [
    "df.isnull().sum()"
   ]
  },
  {
   "cell_type": "markdown",
   "metadata": {
    "id": "76eafe12"
   },
   "source": [
    "### 3.2 Other Data Cleaning steps"
   ]
  },
  {
   "cell_type": "markdown",
   "metadata": {
    "id": "471fd48f"
   },
   "source": [
    "**Handling Duplicates**"
   ]
  },
  {
   "cell_type": "code",
   "execution_count": 8,
   "metadata": {
    "id": "d8fa17e0",
    "outputId": "7f1d6a37-65e2-4b4f-f201-69b9c3a80150"
   },
   "outputs": [
    {
     "data": {
      "text/plain": [
       "13"
      ]
     },
     "execution_count": 8,
     "metadata": {},
     "output_type": "execute_result"
    }
   ],
   "source": [
    "df.duplicated().sum()"
   ]
  },
  {
   "cell_type": "markdown",
   "metadata": {
    "id": "3f574d4c"
   },
   "source": [
    "* **No Duplicates in the dataset**"
   ]
  },
  {
   "cell_type": "markdown",
   "metadata": {
    "id": "5cf6d275"
   },
   "source": [
    "**Remove Albumin_and_Globulin_Ratio,Aspartate_Aminotransferase from the dataset as it cannot used in Model Training**"
   ]
  },
  {
   "cell_type": "code",
   "execution_count": 9,
   "metadata": {
    "id": "828c0a89"
   },
   "outputs": [],
   "source": [
    "df = df.drop(['Albumin_and_Globulin_Ratio', 'Aspartate_Aminotransferase'], axis = 1)\n",
    "df.rename(columns = {'Dataset':'liver_disease_YN'}, inplace =True)"
   ]
  },
  {
   "cell_type": "markdown",
   "metadata": {
    "id": "6d48a184"
   },
   "source": [
    "# Feature Engineering"
   ]
  },
  {
   "cell_type": "markdown",
   "metadata": {
    "id": "8453d379"
   },
   "source": [
    "## Feature Extraction"
   ]
  },
  {
   "cell_type": "code",
   "execution_count": 10,
   "metadata": {},
   "outputs": [
    {
     "data": {
      "text/html": [
       "<div>\n",
       "<style scoped>\n",
       "    .dataframe tbody tr th:only-of-type {\n",
       "        vertical-align: middle;\n",
       "    }\n",
       "\n",
       "    .dataframe tbody tr th {\n",
       "        vertical-align: top;\n",
       "    }\n",
       "\n",
       "    .dataframe thead th {\n",
       "        text-align: right;\n",
       "    }\n",
       "</style>\n",
       "<table border=\"1\" class=\"dataframe\">\n",
       "  <thead>\n",
       "    <tr style=\"text-align: right;\">\n",
       "      <th></th>\n",
       "      <th>Age</th>\n",
       "      <th>Gender</th>\n",
       "      <th>Total_Bilirubin</th>\n",
       "      <th>Direct_Bilirubin</th>\n",
       "      <th>Alkaline_Phosphotase</th>\n",
       "      <th>Alamine_Aminotransferase</th>\n",
       "      <th>Total_Protiens</th>\n",
       "      <th>Albumin</th>\n",
       "      <th>liver_disease_YN</th>\n",
       "    </tr>\n",
       "  </thead>\n",
       "  <tbody>\n",
       "    <tr>\n",
       "      <th>0</th>\n",
       "      <td>65</td>\n",
       "      <td>Female</td>\n",
       "      <td>0.7</td>\n",
       "      <td>0.1</td>\n",
       "      <td>187</td>\n",
       "      <td>16</td>\n",
       "      <td>6.8</td>\n",
       "      <td>3.3</td>\n",
       "      <td>1</td>\n",
       "    </tr>\n",
       "    <tr>\n",
       "      <th>1</th>\n",
       "      <td>62</td>\n",
       "      <td>Male</td>\n",
       "      <td>10.9</td>\n",
       "      <td>5.5</td>\n",
       "      <td>699</td>\n",
       "      <td>64</td>\n",
       "      <td>7.5</td>\n",
       "      <td>3.2</td>\n",
       "      <td>1</td>\n",
       "    </tr>\n",
       "    <tr>\n",
       "      <th>2</th>\n",
       "      <td>62</td>\n",
       "      <td>Male</td>\n",
       "      <td>7.3</td>\n",
       "      <td>4.1</td>\n",
       "      <td>490</td>\n",
       "      <td>60</td>\n",
       "      <td>7.0</td>\n",
       "      <td>3.3</td>\n",
       "      <td>1</td>\n",
       "    </tr>\n",
       "    <tr>\n",
       "      <th>3</th>\n",
       "      <td>58</td>\n",
       "      <td>Male</td>\n",
       "      <td>1.0</td>\n",
       "      <td>0.4</td>\n",
       "      <td>182</td>\n",
       "      <td>14</td>\n",
       "      <td>6.8</td>\n",
       "      <td>3.4</td>\n",
       "      <td>1</td>\n",
       "    </tr>\n",
       "    <tr>\n",
       "      <th>4</th>\n",
       "      <td>72</td>\n",
       "      <td>Male</td>\n",
       "      <td>3.9</td>\n",
       "      <td>2.0</td>\n",
       "      <td>195</td>\n",
       "      <td>27</td>\n",
       "      <td>7.3</td>\n",
       "      <td>2.4</td>\n",
       "      <td>1</td>\n",
       "    </tr>\n",
       "  </tbody>\n",
       "</table>\n",
       "</div>"
      ],
      "text/plain": [
       "   Age  Gender  Total_Bilirubin  Direct_Bilirubin  Alkaline_Phosphotase  \\\n",
       "0   65  Female              0.7               0.1                   187   \n",
       "1   62    Male             10.9               5.5                   699   \n",
       "2   62    Male              7.3               4.1                   490   \n",
       "3   58    Male              1.0               0.4                   182   \n",
       "4   72    Male              3.9               2.0                   195   \n",
       "\n",
       "   Alamine_Aminotransferase  Total_Protiens  Albumin  liver_disease_YN  \n",
       "0                        16             6.8      3.3                 1  \n",
       "1                        64             7.5      3.2                 1  \n",
       "2                        60             7.0      3.3                 1  \n",
       "3                        14             6.8      3.4                 1  \n",
       "4                        27             7.3      2.4                 1  "
      ]
     },
     "execution_count": 10,
     "metadata": {},
     "output_type": "execute_result"
    }
   ],
   "source": [
    "df.head()"
   ]
  },
  {
   "cell_type": "code",
   "execution_count": 11,
   "metadata": {
    "id": "8eac04de"
   },
   "outputs": [],
   "source": [
    "# # importing date class from datetime module\n",
    "# from datetime import date\n",
    "  \n",
    "# # creating the date object of today's date\n",
    "# todays_date = date.today()\n",
    "# current_year= todays_date.year"
   ]
  },
  {
   "cell_type": "markdown",
   "metadata": {
    "id": "79bd9cbf"
   },
   "source": [
    "**Subtract current year with year of estab to get company's age**"
   ]
  },
  {
   "cell_type": "code",
   "execution_count": 12,
   "metadata": {
    "id": "3c193e26"
   },
   "outputs": [],
   "source": [
    "#df['company_age'] = current_year-df['yr_of_estab']"
   ]
  },
  {
   "cell_type": "code",
   "execution_count": 13,
   "metadata": {
    "id": "fd661e95",
    "outputId": "5221c83c-9303-43b7-e12a-8e6f46d14f15"
   },
   "outputs": [],
   "source": [
    "#df.head()"
   ]
  },
  {
   "cell_type": "code",
   "execution_count": 14,
   "metadata": {
    "id": "2cc2b5c1"
   },
   "outputs": [],
   "source": [
    "#df.drop('yr_of_estab', inplace=True, axis=1)"
   ]
  },
  {
   "cell_type": "markdown",
   "metadata": {
    "id": "66542de1"
   },
   "source": [
    "### Type of Features"
   ]
  },
  {
   "cell_type": "markdown",
   "metadata": {
    "id": "85df52e5"
   },
   "source": [
    "**Numeric Features**"
   ]
  },
  {
   "cell_type": "code",
   "execution_count": 15,
   "metadata": {
    "id": "d48aeaa4",
    "outputId": "3472d509-3613-408a-b2e0-7e04e3ba694a"
   },
   "outputs": [
    {
     "name": "stdout",
     "output_type": "stream",
     "text": [
      "Num of Numerical Features : 8\n"
     ]
    }
   ],
   "source": [
    "num_features = [feature for feature in df.columns if df[feature].dtype != 'O']\n",
    "print('Num of Numerical Features :', len(num_features))"
   ]
  },
  {
   "cell_type": "markdown",
   "metadata": {
    "id": "e1107060"
   },
   "source": [
    "**Categorical Features**"
   ]
  },
  {
   "cell_type": "code",
   "execution_count": 16,
   "metadata": {
    "id": "ff997805",
    "outputId": "3dd63e00-7af0-48de-d7bb-5d1f51c557de"
   },
   "outputs": [
    {
     "name": "stdout",
     "output_type": "stream",
     "text": [
      "Num of Categorical Features : 1\n"
     ]
    }
   ],
   "source": [
    "cat_features = [feature for feature in df.columns if df[feature].dtype == 'O']\n",
    "print('Num of Categorical Features :', len(cat_features))"
   ]
  },
  {
   "cell_type": "markdown",
   "metadata": {
    "id": "9bc032f9"
   },
   "source": [
    "**Discrete features**"
   ]
  },
  {
   "cell_type": "code",
   "execution_count": 17,
   "metadata": {
    "id": "812ee6e0",
    "outputId": "0181bd9a-5f2b-4292-8a57-d9c683d2e128"
   },
   "outputs": [
    {
     "name": "stdout",
     "output_type": "stream",
     "text": [
      "Num of Discrete Features : 1\n"
     ]
    }
   ],
   "source": [
    "discrete_features=[feature for feature in num_features if len(df[feature].unique())<=25]\n",
    "print('Num of Discrete Features :',len(discrete_features))"
   ]
  },
  {
   "cell_type": "markdown",
   "metadata": {
    "id": "3e6740bf"
   },
   "source": [
    "**Continuous Features**"
   ]
  },
  {
   "cell_type": "code",
   "execution_count": 18,
   "metadata": {
    "id": "e501c72b",
    "outputId": "c10010b4-eb51-406e-afc4-464894031222"
   },
   "outputs": [
    {
     "name": "stdout",
     "output_type": "stream",
     "text": [
      "Num of Continuous Features : 7\n"
     ]
    }
   ],
   "source": [
    "continuous_features=[feature for feature in num_features if feature not in discrete_features]\n",
    "print('Num of Continuous Features :',len(continuous_features))"
   ]
  },
  {
   "cell_type": "markdown",
   "metadata": {
    "id": "f2260600"
   },
   "source": [
    "#### Feature encoding theTarget feature."
   ]
  },
  {
   "cell_type": "code",
   "execution_count": 19,
   "metadata": {
    "id": "7a9d7c95"
   },
   "outputs": [],
   "source": [
    "\n",
    "\n",
    "## Original dataframe has 1 & 2 encoding for whther a subject has liver disease or not, respecively.\n",
    "## I will change this into a binary 0 & 1 feature\n",
    "target_replace_dict = {1:1, 2:0}\n",
    "df['liver_disease_YN'].replace(target_replace_dict, inplace = True)\n"
   ]
  },
  {
   "cell_type": "code",
   "execution_count": 20,
   "metadata": {},
   "outputs": [
    {
     "data": {
      "text/html": [
       "<div>\n",
       "<style scoped>\n",
       "    .dataframe tbody tr th:only-of-type {\n",
       "        vertical-align: middle;\n",
       "    }\n",
       "\n",
       "    .dataframe tbody tr th {\n",
       "        vertical-align: top;\n",
       "    }\n",
       "\n",
       "    .dataframe thead th {\n",
       "        text-align: right;\n",
       "    }\n",
       "</style>\n",
       "<table border=\"1\" class=\"dataframe\">\n",
       "  <thead>\n",
       "    <tr style=\"text-align: right;\">\n",
       "      <th></th>\n",
       "      <th>Age</th>\n",
       "      <th>Gender</th>\n",
       "      <th>Total_Bilirubin</th>\n",
       "      <th>Direct_Bilirubin</th>\n",
       "      <th>Alkaline_Phosphotase</th>\n",
       "      <th>Alamine_Aminotransferase</th>\n",
       "      <th>Total_Protiens</th>\n",
       "      <th>Albumin</th>\n",
       "      <th>liver_disease_YN</th>\n",
       "    </tr>\n",
       "  </thead>\n",
       "  <tbody>\n",
       "    <tr>\n",
       "      <th>581</th>\n",
       "      <td>31</td>\n",
       "      <td>Male</td>\n",
       "      <td>1.3</td>\n",
       "      <td>0.5</td>\n",
       "      <td>184</td>\n",
       "      <td>29</td>\n",
       "      <td>6.8</td>\n",
       "      <td>3.4</td>\n",
       "      <td>1</td>\n",
       "    </tr>\n",
       "    <tr>\n",
       "      <th>582</th>\n",
       "      <td>38</td>\n",
       "      <td>Male</td>\n",
       "      <td>1.0</td>\n",
       "      <td>0.3</td>\n",
       "      <td>216</td>\n",
       "      <td>21</td>\n",
       "      <td>7.3</td>\n",
       "      <td>4.4</td>\n",
       "      <td>0</td>\n",
       "    </tr>\n",
       "  </tbody>\n",
       "</table>\n",
       "</div>"
      ],
      "text/plain": [
       "     Age Gender  Total_Bilirubin  Direct_Bilirubin  Alkaline_Phosphotase  \\\n",
       "581   31   Male              1.3               0.5                   184   \n",
       "582   38   Male              1.0               0.3                   216   \n",
       "\n",
       "     Alamine_Aminotransferase  Total_Protiens  Albumin  liver_disease_YN  \n",
       "581                        29             6.8      3.4                 1  \n",
       "582                        21             7.3      4.4                 0  "
      ]
     },
     "execution_count": 20,
     "metadata": {},
     "output_type": "execute_result"
    }
   ],
   "source": [
    "df.tail(2)"
   ]
  },
  {
   "cell_type": "markdown",
   "metadata": {
    "id": "5a2cf140"
   },
   "source": [
    "### Split X and Y"
   ]
  },
  {
   "cell_type": "markdown",
   "metadata": {
    "id": "9455c01a"
   },
   "source": [
    "* **Split Dataframe to X and y**\n",
    "* **Here we set a variable X i.e, independent columns, and a variable y i.e, dependent column as the “Case_Status” column.**\n"
   ]
  },
  {
   "cell_type": "code",
   "execution_count": 21,
   "metadata": {
    "id": "4434aa31"
   },
   "outputs": [],
   "source": [
    "X = df.drop('liver_disease_YN', axis=1)\n",
    "y = df['liver_disease_YN']"
   ]
  },
  {
   "cell_type": "code",
   "execution_count": 22,
   "metadata": {},
   "outputs": [
    {
     "data": {
      "text/plain": [
       "578    0\n",
       "579    1\n",
       "580    1\n",
       "581    1\n",
       "582    0\n",
       "Name: liver_disease_YN, dtype: int64"
      ]
     },
     "execution_count": 22,
     "metadata": {},
     "output_type": "execute_result"
    }
   ],
   "source": [
    "y.tail()"
   ]
  },
  {
   "cell_type": "markdown",
   "metadata": {
    "id": "ca2d817d"
   },
   "source": [
    "## Feature Transformation"
   ]
  },
  {
   "cell_type": "code",
   "execution_count": 23,
   "metadata": {
    "id": "a921c3a0",
    "outputId": "84d46867-1130-41fc-9dca-e5087fccb83d",
    "scrolled": false
   },
   "outputs": [
    {
     "data": {
      "image/png": "[encoded data removed]",
      "text/plain": [
       "<Figure size 1080x576 with 7 Axes>"
      ]
     },
     "metadata": {
      "needs_background": "light"
     },
     "output_type": "display_data"
    }
   ],
   "source": [
    "# distribution of data before scaling\n",
    "import math\n",
    "plt.figure(figsize=(15, 8))\n",
    "n_features = len(num_features)\n",
    "n_cols = 3  # you can change this value to fit your needs\n",
    "n_rows = math.ceil(n_features / n_cols)\n",
    "for i, col in enumerate(continuous_features):\n",
    "    plt.subplot(n_rows, n_cols, i + 1)\n",
    "    sns.histplot(x=X[col], color='indianred')\n",
    "    plt.xlabel(col)\n",
    "    plt.tight_layout()"
   ]
  },
  {
   "cell_type": "markdown",
   "metadata": {
    "id": "993fca30"
   },
   "source": [
    "* No of employees and Copmany age column is skewed\n",
    "* Apply a power transform featurewise to make data more Gaussian-like.\n",
    "\n",
    "Power transforms are a family of parametric, monotonic transformations that are applied to make data more Gaussian-like. This is useful for modeling issues related to heteroscedasticity (non-constant variance), or other situations where normality is desired.\n",
    "\n",
    "Currently, PowerTransformer supports the Box-Cox transform and the Yeo-Johnson transform."
   ]
  },
  {
   "cell_type": "markdown",
   "metadata": {
    "id": "a890a255"
   },
   "source": [
    "**Checking Skewness**"
   ]
  },
  {
   "cell_type": "markdown",
   "metadata": {
    "id": "ca6ac67f"
   },
   "source": [
    "**What is Skewness ?**\n",
    "\n",
    "* Skewness refers to a distortion or asymmetry that deviates from the symmetrical bell curve, or normal distribution, in a set of data. If the curve is shifted to the left or to the right, it is said to be skewed. Skewness can be quantified as a representation of the extent to which a given distribution varies from a normal distribution. A normal distribution has a skew of zero"
   ]
  },
  {
   "cell_type": "code",
   "execution_count": 24,
   "metadata": {
    "id": "4038a207",
    "outputId": "51497045-4d93-46f8-ea18-47d742680845"
   },
   "outputs": [
    {
     "data": {
      "text/plain": [
       "Age                        -0.029385\n",
       "Total_Bilirubin             4.907474\n",
       "Direct_Bilirubin            3.212403\n",
       "Alkaline_Phosphotase        3.765106\n",
       "Alamine_Aminotransferase    6.549192\n",
       "Total_Protiens             -0.285672\n",
       "Albumin                    -0.043685\n",
       "dtype: float64"
      ]
     },
     "execution_count": 24,
     "metadata": {},
     "output_type": "execute_result"
    }
   ],
   "source": [
    "# Check Skewness\n",
    "X[continuous_features].skew(axis=0, skipna=True)"
   ]
  },
  {
   "cell_type": "markdown",
   "metadata": {
    "id": "1786c0ad"
   },
   "source": [
    "- Positiviely Skewed : `Total_Bilirubin`, `Direct_Bilirubin`, `Alkaline_Phosphotase`, `Alamine_Aminotransferase`.\n",
    "- Some features like `Total_Bilirubin`, `Direct_Bilirubin`, `Alkaline_Phosphotase`, `Alamine_Aminotransferase` are heavily skewed to the right, probably due to outliers. Lets log-normalize these features to improve model performance."
   ]
  },
  {
   "cell_type": "markdown",
   "metadata": {
    "id": "96c39509"
   },
   "source": [
    "## Apply Log Normalization to Check if it can reduces the outliers"
   ]
  },
  {
   "cell_type": "code",
   "execution_count": 25,
   "metadata": {
    "scrolled": true
   },
   "outputs": [
    {
     "name": "stdout",
     "output_type": "stream",
     "text": [
      "Skewness of log transformed features:\n",
      "log_Total_Bilirubin :\t 1.728075438911167\n",
      "log_Direct_Bilirubin :\t 1.688720802561033\n",
      "log_Alkaline_Phosphotase :\t 1.3310766197312012\n",
      "log_Alamine_Aminotransferase :\t 1.4737740594908915\n"
     ]
    },
    {
     "data": {
      "image/png": "[encoded data removed]",
      "text/plain": [
       "<Figure size 1080x216 with 4 Axes>"
      ]
     },
     "metadata": {
      "needs_background": "light"
     },
     "output_type": "display_data"
    }
   ],
   "source": [
    "## Adding new log transformed features and visualizing their distributions\n",
    "\n",
    "skewed_features = ['Total_Bilirubin',\\\n",
    "                   'Direct_Bilirubin', \\\n",
    "                   'Alkaline_Phosphotase', \\\n",
    "                   'Alamine_Aminotransferase']\n",
    "\n",
    "fig = plt.figure(figsize=(15,3))\n",
    "\n",
    "print('Skewness of log transformed features:')\n",
    "for idx, feature in enumerate(skewed_features):\n",
    "    new_name = f'log_{feature}'\n",
    "    X[new_name] = np.log10(df[feature]+1) #add 1 to features with 0 values to prevent -np.inf during log transform\n",
    "    print(new_name, ':\\t', X[new_name].skew())\n",
    "\n",
    "    sub = fig.add_subplot(1,4,idx+1)\n",
    "    sub.set_xlabel(f'log_10_{feature}')\n",
    "    X[new_name].plot(kind='hist')\n",
    "    plt.tight_layout()"
   ]
  },
  {
   "cell_type": "code",
   "execution_count": 26,
   "metadata": {},
   "outputs": [],
   "source": [
    "X = X.drop(skewed_features, axis = 1)"
   ]
  },
  {
   "cell_type": "markdown",
   "metadata": {
    "id": "69c717fc"
   },
   "source": [
    "- Here Yeo-Johnson is used and it supports both positive or negative data for transformation.\n",
    "- So Power Transformer with yeo-johnson can be used."
   ]
  },
  {
   "cell_type": "code",
   "execution_count": 27,
   "metadata": {
    "id": "7740ff27",
    "outputId": "76d06e1f-cc70-41fa-91e2-6b99a2683eb4"
   },
   "outputs": [
    {
     "name": "stdout",
     "output_type": "stream",
     "text": [
      "Gender : 2\n"
     ]
    }
   ],
   "source": [
    "for feature in cat_features:\n",
    "    print(feature,':', df[feature].nunique())"
   ]
  },
  {
   "cell_type": "markdown",
   "metadata": {
    "id": "51a3853d"
   },
   "source": [
    "## Feature Encoding and Scaling"
   ]
  },
  {
   "cell_type": "markdown",
   "metadata": {
    "id": "29dbaf2d"
   },
   "source": [
    " **One Hot Encoding for Columns which had lesser unique values and not ordinal**\n",
    "* One hot encoding is a process by which categorical variables are converted into a form that could be provided to ML algorithms to do a better job in prediction.\n",
    "\n",
    "**Ordinal Encoding for Columns which has many unique categories** \n",
    "* Ordinal encoding is used here as label encoder is supported for column transformer.\n",
    "* Ordinal encoding is used for Ordinal Variable. Variable comprises a finite set of discrete values with a ranked ordering between values.\n",
    "\n",
    "**Standard Scaler** \n",
    "* Standardize features by removing the mean and scaling to unit variance.\n",
    "\n",
    "**Power Transformer**\n",
    "* Power transforms are a technique for transforming numerical input or output variables to have a Gaussian or more-Gaussian-like probability distribution."
   ]
  },
  {
   "cell_type": "markdown",
   "metadata": {
    "id": "e245a3af"
   },
   "source": [
    "**Selecting number features for preprocessing**"
   ]
  },
  {
   "cell_type": "code",
   "execution_count": 28,
   "metadata": {
    "id": "ef40892b"
   },
   "outputs": [],
   "source": [
    "num_features = list(X.select_dtypes(exclude=\"object\").columns)"
   ]
  },
  {
   "cell_type": "code",
   "execution_count": 29,
   "metadata": {},
   "outputs": [
    {
     "data": {
      "text/plain": [
       "['Age',\n",
       " 'Total_Protiens',\n",
       " 'Albumin',\n",
       " 'log_Total_Bilirubin',\n",
       " 'log_Direct_Bilirubin',\n",
       " 'log_Alkaline_Phosphotase',\n",
       " 'log_Alamine_Aminotransferase']"
      ]
     },
     "execution_count": 29,
     "metadata": {},
     "output_type": "execute_result"
    }
   ],
   "source": [
    "num_features"
   ]
  },
  {
   "cell_type": "markdown",
   "metadata": {
    "id": "2bccb0bc"
   },
   "source": [
    "### **Preprocessing using Column Transformer**"
   ]
  },
  {
   "cell_type": "code",
   "execution_count": 30,
   "metadata": {
    "id": "e9a2c9b5"
   },
   "outputs": [],
   "source": [
    "# Create Column Transformer with 3 types of transformers\n",
    "or_columns = ['Gender']\n",
    "#oh_columns = ['continent','unit_of_wage','region_of_employment']\n",
    "transform_columns= ['log_Total_Bilirubin',\n",
    " 'log_Direct_Bilirubin',\n",
    " 'log_Alkaline_Phosphotase',\n",
    " 'log_Alamine_Aminotransferase']\n",
    "\n",
    "from sklearn.preprocessing import OneHotEncoder, StandardScaler,OrdinalEncoder, PowerTransformer\n",
    "from sklearn.compose import ColumnTransformer \n",
    "from sklearn.pipeline import Pipeline\n",
    "\n",
    "numeric_transformer = StandardScaler()\n",
    "oh_transformer = OneHotEncoder()\n",
    "ordinal_encoder = OrdinalEncoder()\n",
    "\n",
    "transform_pipe = Pipeline(steps=[\n",
    "    ('transformer', PowerTransformer(method='yeo-johnson'))\n",
    "])\n",
    "\n",
    "preprocessor = ColumnTransformer(\n",
    "    [\n",
    "        #(\"OneHotEncoder\", oh_transformer, oh_columns),\n",
    "        (\"Ordinal_Encoder\", ordinal_encoder, or_columns),\n",
    "        (\"Transformer\", transform_pipe, transform_columns),\n",
    "        (\"StandardScaler\", numeric_transformer, num_features)\n",
    "    ]\n",
    ")"
   ]
  },
  {
   "cell_type": "code",
   "execution_count": 31,
   "metadata": {
    "id": "328d041f"
   },
   "outputs": [],
   "source": [
    "X = preprocessor.fit_transform(X)"
   ]
  },
  {
   "cell_type": "code",
   "execution_count": 32,
   "metadata": {},
   "outputs": [
    {
     "data": {
      "text/plain": [
       "array([[ 0.        , -0.99281638, -1.26701162, ..., -0.78126743,\n",
       "        -0.49740368, -1.07518908],\n",
       "       [ 1.        ,  1.66106135,  1.65401972, ...,  1.92628226,\n",
       "         2.00251224,  0.44396825],\n",
       "       [ 1.        ,  1.53813723,  1.57021367, ...,  1.55659431,\n",
       "         1.32813614,  0.37202616],\n",
       "       ...,\n",
       "       [ 1.        , -0.7459273 , -0.80172402, ..., -0.64865347,\n",
       "         0.01391665,  0.12390261],\n",
       "       [ 1.        ,  0.06441297,  0.06097577, ..., -0.30856061,\n",
       "        -0.52799308, -0.43182948],\n",
       "       [ 1.        , -0.35385216, -0.44506595, ..., -0.52666046,\n",
       "        -0.22460895, -0.7831442 ]])"
      ]
     },
     "execution_count": 32,
     "metadata": {},
     "output_type": "execute_result"
    }
   ],
   "source": [
    "X"
   ]
  },
  {
   "cell_type": "markdown",
   "metadata": {
    "id": "8b08df30"
   },
   "source": [
    "# Classification"
   ]
  },
  {
   "cell_type": "code",
   "execution_count": 33,
   "metadata": {},
   "outputs": [],
   "source": [
    "#!pip install --upgrade scikit-learn\n",
    "# import sklearn\n",
    "# print(sklearn.__version__)\n"
   ]
  },
  {
   "cell_type": "code",
   "execution_count": 36,
   "metadata": {
    "id": "6688f6fb"
   },
   "outputs": [],
   "source": [
    "from imblearn.combine import SMOTETomek, SMOTEENN\n",
    "\n",
    "# Resampling the minority class. The strategy can be changed as required.\n",
    "smt = SMOTEENN(random_state=42,sampling_strategy='minority' )\n",
    "# Fit the model to generate the data.\n",
    "X_res, y_res = smt.fit_resample(X, y)"
   ]
  },
  {
   "cell_type": "markdown",
   "metadata": {
    "id": "8a2c0485"
   },
   "source": [
    "## Train Test Split\n",
    "- The train-test split procedure is used to estimate the performance of machine learning algorithms when they are used to make predictions on data not used to train the model.\n",
    "\n",
    "- It is a fast and easy procedure to perform, the results of which allow you to compare the performance of machine learning algorithms."
   ]
  },
  {
   "cell_type": "code",
   "execution_count": 37,
   "metadata": {
    "id": "e0f5858e",
    "outputId": "d91dcb53-e0ae-4571-ef70-745f4c2ed1a2"
   },
   "outputs": [
    {
     "data": {
      "text/plain": [
       "((396, 12), (99, 12))"
      ]
     },
     "execution_count": 37,
     "metadata": {},
     "output_type": "execute_result"
    }
   ],
   "source": [
    "from sklearn.model_selection import  train_test_split\n",
    "# separate dataset into train and test\n",
    "X_train, X_test, y_train, y_test = train_test_split(X_res,y_res,test_size=0.2,random_state=42)\n",
    "X_train.shape, X_test.shape"
   ]
  },
  {
   "cell_type": "code",
   "execution_count": 38,
   "metadata": {
    "id": "4cdb60f1"
   },
   "outputs": [],
   "source": [
    "from sklearn.ensemble import RandomForestClassifier, AdaBoostClassifier, GradientBoostingClassifier\n",
    "from sklearn.linear_model import LogisticRegression\n",
    "from sklearn.neighbors import KNeighborsClassifier\n",
    "from sklearn.tree import DecisionTreeClassifier\n",
    "from sklearn.svm import SVC\n",
    "from sklearn.metrics import accuracy_score, classification_report,ConfusionMatrixDisplay, \\\n",
    "                            precision_score, recall_score, f1_score, roc_auc_score,roc_curve \n",
    "# from xgboost import XGBClassifier\n",
    "# from catboost import CatBoostClassifier"
   ]
  },
  {
   "cell_type": "code",
   "execution_count": 39,
   "metadata": {
    "id": "b4da40e7"
   },
   "outputs": [],
   "source": [
    "def evaluate_clf(true, predicted):\n",
    "    acc = accuracy_score(true, predicted) # Calculate Accuracy\n",
    "    f1 = f1_score(true, predicted) # Calculate F1-score\n",
    "    precision = precision_score(true, predicted) # Calculate Precision\n",
    "    recall = recall_score(true, predicted)  # Calculate Recall\n",
    "    roc_auc = roc_auc_score(true, predicted) #Calculate Roc\n",
    "    return acc, f1 , precision, recall, roc_auc"
   ]
  },
  {
   "cell_type": "code",
   "execution_count": 40,
   "metadata": {
    "id": "91cebd1a",
    "scrolled": false
   },
   "outputs": [],
   "source": [
    "models = {\n",
    "    \"Random Forest\": RandomForestClassifier(),\n",
    "    \"Decision Tree\": DecisionTreeClassifier(),\n",
    "    \"Gradient Boosting\": GradientBoostingClassifier(),\n",
    "    \"Logistic Regression\": LogisticRegression(),\n",
    "     \"K-Neighbors Classifier\": KNeighborsClassifier(),\n",
    "    #\"XGBClassifier\": XGBClassifier(), \n",
    "     #\"CatBoosting Classifier\": CatBoostClassifier(verbose=False),\n",
    "     \"Support Vector Classifier\": SVC(),\n",
    "    \"AdaBoost Classifier\": AdaBoostClassifier()\n",
    "\n",
    "}"
   ]
  },
  {
   "cell_type": "code",
   "execution_count": 41,
   "metadata": {
    "id": "9aa69756"
   },
   "outputs": [],
   "source": [
    "# Create a function which can evaluate models and return a report \n",
    "def evaluate_models(X, y, models):\n",
    "    '''\n",
    "    This function takes in X and y and models dictionary as input\n",
    "    It splits the data into Train Test split\n",
    "    Iterates through the given model dictionary and evaluates the metrics\n",
    "    Returns: Dataframe which contains report of all models metrics with cost\n",
    "    '''\n",
    "    # separate dataset into train and test\n",
    "    X_train, X_test, y_train, y_test = train_test_split(X,y,test_size=0.2,random_state=42)\n",
    "    \n",
    "    models_list = []\n",
    "    accuracy_list = []\n",
    "    auc= []\n",
    "    \n",
    "    for i in range(len(list(models))):\n",
    "        model = list(models.values())[i]\n",
    "        model.fit(X_train, y_train) # Train model\n",
    "\n",
    "        # Make predictions\n",
    "        y_train_pred = model.predict(X_train)\n",
    "        y_test_pred = model.predict(X_test)\n",
    "\n",
    "        # Training set performance\n",
    "        model_train_accuracy, model_train_f1,model_train_precision,\\\n",
    "        model_train_recall,model_train_rocauc_score=evaluate_clf(y_train ,y_train_pred)\n",
    "\n",
    "\n",
    "        # Test set performance\n",
    "        model_test_accuracy,model_test_f1,model_test_precision,\\\n",
    "        model_test_recall,model_test_rocauc_score=evaluate_clf(y_test, y_test_pred)\n",
    "\n",
    "        print(list(models.keys())[i])\n",
    "        models_list.append(list(models.keys())[i])\n",
    "\n",
    "        print('Model performance for Training set')\n",
    "        print(\"- Accuracy: {:.4f}\".format(model_train_accuracy))\n",
    "        print('- F1 score: {:.4f}'.format(model_train_f1)) \n",
    "        print('- Precision: {:.4f}'.format(model_train_precision))\n",
    "        print('- Recall: {:.4f}'.format(model_train_recall))\n",
    "        print('- Roc Auc Score: {:.4f}'.format(model_train_rocauc_score))\n",
    "\n",
    "        print('----------------------------------')\n",
    "\n",
    "        print('Model performance for Test set')\n",
    "        print('- Accuracy: {:.4f}'.format(model_test_accuracy))\n",
    "        accuracy_list.append(model_test_accuracy)\n",
    "        print('- F1 score: {:.4f}'.format(model_test_f1))\n",
    "        print('- Precision: {:.4f}'.format(model_test_precision))\n",
    "        print('- Recall: {:.4f}'.format(model_test_recall))\n",
    "        print('- Roc Auc Score: {:.4f}'.format(model_test_rocauc_score))\n",
    "        auc.append(model_test_rocauc_score)\n",
    "        print('='*35)\n",
    "        print('\\n')\n",
    "        \n",
    "    report=pd.DataFrame(list(zip(models_list, accuracy_list)), columns=['Model Name', 'Accuracy']).sort_values(by=['Accuracy'], ascending=False)\n",
    "        \n",
    "    return report"
   ]
  },
  {
   "cell_type": "markdown",
   "metadata": {
    "id": "0e010280"
   },
   "source": [
    "## Model Training "
   ]
  },
  {
   "cell_type": "code",
   "execution_count": 42,
   "metadata": {
    "id": "b08c217d",
    "outputId": "f8290c30-975a-4e44-80bd-9e120036e956",
    "scrolled": false
   },
   "outputs": [
    {
     "name": "stdout",
     "output_type": "stream",
     "text": [
      "Random Forest\n",
      "Model performance for Training set\n",
      "- Accuracy: 1.0000\n",
      "- F1 score: 1.0000\n",
      "- Precision: 1.0000\n",
      "- Recall: 1.0000\n",
      "- Roc Auc Score: 1.0000\n",
      "----------------------------------\n",
      "Model performance for Test set\n",
      "- Accuracy: 0.9495\n",
      "- F1 score: 0.9383\n",
      "- Precision: 0.9268\n",
      "- Recall: 0.9500\n",
      "- Roc Auc Score: 0.9496\n",
      "===================================\n",
      "\n",
      "\n",
      "Decision Tree\n",
      "Model performance for Training set\n",
      "- Accuracy: 1.0000\n",
      "- F1 score: 1.0000\n",
      "- Precision: 1.0000\n",
      "- Recall: 1.0000\n",
      "- Roc Auc Score: 1.0000\n",
      "----------------------------------\n",
      "Model performance for Test set\n",
      "- Accuracy: 0.8788\n",
      "- F1 score: 0.8537\n",
      "- Precision: 0.8333\n",
      "- Recall: 0.8750\n",
      "- Roc Auc Score: 0.8782\n",
      "===================================\n",
      "\n",
      "\n",
      "Gradient Boosting\n",
      "Model performance for Training set\n",
      "- Accuracy: 0.9949\n",
      "- F1 score: 0.9937\n",
      "- Precision: 1.0000\n",
      "- Recall: 0.9874\n",
      "- Roc Auc Score: 0.9937\n",
      "----------------------------------\n",
      "Model performance for Test set\n",
      "- Accuracy: 0.9192\n",
      "- F1 score: 0.8974\n",
      "- Precision: 0.9211\n",
      "- Recall: 0.8750\n",
      "- Roc Auc Score: 0.9121\n",
      "===================================\n",
      "\n",
      "\n",
      "Logistic Regression\n",
      "Model performance for Training set\n",
      "- Accuracy: 0.8965\n",
      "- F1 score: 0.8629\n",
      "- Precision: 0.9214\n",
      "- Recall: 0.8113\n",
      "- Roc Auc Score: 0.8825\n",
      "----------------------------------\n",
      "Model performance for Test set\n",
      "- Accuracy: 0.9091\n",
      "- F1 score: 0.8831\n",
      "- Precision: 0.9189\n",
      "- Recall: 0.8500\n",
      "- Roc Auc Score: 0.8996\n",
      "===================================\n",
      "\n",
      "\n",
      "K-Neighbors Classifier\n",
      "Model performance for Training set\n",
      "- Accuracy: 0.9672\n",
      "- F1 score: 0.9574\n",
      "- Precision: 1.0000\n",
      "- Recall: 0.9182\n",
      "- Roc Auc Score: 0.9591\n",
      "----------------------------------\n",
      "Model performance for Test set\n",
      "- Accuracy: 0.9495\n",
      "- F1 score: 0.9333\n",
      "- Precision: 1.0000\n",
      "- Recall: 0.8750\n",
      "- Roc Auc Score: 0.9375\n",
      "===================================\n",
      "\n",
      "\n",
      "Support Vector Classifier\n",
      "Model performance for Training set\n",
      "- Accuracy: 0.9343\n",
      "- F1 score: 0.9122\n",
      "- Precision: 0.9854\n",
      "- Recall: 0.8491\n",
      "- Roc Auc Score: 0.9203\n",
      "----------------------------------\n",
      "Model performance for Test set\n",
      "- Accuracy: 0.9293\n",
      "- F1 score: 0.9067\n",
      "- Precision: 0.9714\n",
      "- Recall: 0.8500\n",
      "- Roc Auc Score: 0.9165\n",
      "===================================\n",
      "\n",
      "\n",
      "AdaBoost Classifier\n",
      "Model performance for Training set\n",
      "- Accuracy: 0.9874\n",
      "- F1 score: 0.9840\n",
      "- Precision: 1.0000\n",
      "- Recall: 0.9686\n",
      "- Roc Auc Score: 0.9843\n",
      "----------------------------------\n",
      "Model performance for Test set\n",
      "- Accuracy: 0.9192\n",
      "- F1 score: 0.8974\n",
      "- Precision: 0.9211\n",
      "- Recall: 0.8750\n",
      "- Roc Auc Score: 0.9121\n",
      "===================================\n",
      "\n",
      "\n"
     ]
    }
   ],
   "source": [
    "base_model_report =evaluate_models(X=X_res, y=y_res, models=models)"
   ]
  },
  {
   "cell_type": "markdown",
   "metadata": {
    "id": "8ac46818"
   },
   "source": [
    "**Results of All Models**"
   ]
  },
  {
   "cell_type": "code",
   "execution_count": 43,
   "metadata": {
    "id": "fd686f5e",
    "outputId": "bf5b1cc5-5eab-4a63-c765-0a23cdc94ab0"
   },
   "outputs": [
    {
     "data": {
      "text/html": [
       "<div>\n",
       "<style scoped>\n",
       "    .dataframe tbody tr th:only-of-type {\n",
       "        vertical-align: middle;\n",
       "    }\n",
       "\n",
       "    .dataframe tbody tr th {\n",
       "        vertical-align: top;\n",
       "    }\n",
       "\n",
       "    .dataframe thead th {\n",
       "        text-align: right;\n",
       "    }\n",
       "</style>\n",
       "<table border=\"1\" class=\"dataframe\">\n",
       "  <thead>\n",
       "    <tr style=\"text-align: right;\">\n",
       "      <th></th>\n",
       "      <th>Model Name</th>\n",
       "      <th>Accuracy</th>\n",
       "    </tr>\n",
       "  </thead>\n",
       "  <tbody>\n",
       "    <tr>\n",
       "      <th>0</th>\n",
       "      <td>Random Forest</td>\n",
       "      <td>0.949495</td>\n",
       "    </tr>\n",
       "    <tr>\n",
       "      <th>4</th>\n",
       "      <td>K-Neighbors Classifier</td>\n",
       "      <td>0.949495</td>\n",
       "    </tr>\n",
       "    <tr>\n",
       "      <th>5</th>\n",
       "      <td>Support Vector Classifier</td>\n",
       "      <td>0.929293</td>\n",
       "    </tr>\n",
       "    <tr>\n",
       "      <th>2</th>\n",
       "      <td>Gradient Boosting</td>\n",
       "      <td>0.919192</td>\n",
       "    </tr>\n",
       "    <tr>\n",
       "      <th>6</th>\n",
       "      <td>AdaBoost Classifier</td>\n",
       "      <td>0.919192</td>\n",
       "    </tr>\n",
       "    <tr>\n",
       "      <th>3</th>\n",
       "      <td>Logistic Regression</td>\n",
       "      <td>0.909091</td>\n",
       "    </tr>\n",
       "    <tr>\n",
       "      <th>1</th>\n",
       "      <td>Decision Tree</td>\n",
       "      <td>0.878788</td>\n",
       "    </tr>\n",
       "  </tbody>\n",
       "</table>\n",
       "</div>"
      ],
      "text/plain": [
       "                  Model Name  Accuracy\n",
       "0              Random Forest  0.949495\n",
       "4     K-Neighbors Classifier  0.949495\n",
       "5  Support Vector Classifier  0.929293\n",
       "2          Gradient Boosting  0.919192\n",
       "6        AdaBoost Classifier  0.919192\n",
       "3        Logistic Regression  0.909091\n",
       "1              Decision Tree  0.878788"
      ]
     },
     "execution_count": 43,
     "metadata": {},
     "output_type": "execute_result"
    }
   ],
   "source": [
    "base_model_report"
   ]
  },
  {
   "cell_type": "markdown",
   "metadata": {
    "id": "f3534db9"
   },
   "source": [
    "**Here we can use Random Forest for Hyper Parameter Tuning**"
   ]
  },
  {
   "cell_type": "markdown",
   "metadata": {
    "id": "0b83fb1c"
   },
   "source": [
    "**Define the parameter distribution for Random forest**"
   ]
  },
  {
   "cell_type": "code",
   "execution_count": 44,
   "metadata": {
    "id": "893c4b00"
   },
   "outputs": [],
   "source": [
    "#Initialize few parameter for Hyperparamter tuning\n",
    "xgboost_params = {\n",
    "    'max_depth':range(3,10,2),\n",
    "    'min_child_weight':range(1,6,2)\n",
    "}\n",
    "\n",
    "rf_params = {\n",
    "    \"max_depth\": [10, 12, None, 15, 20],\n",
    "    \"max_features\": ['sqrt', 'log2', None],\n",
    "    \"n_estimators\": [10, 50, 100, 200]\n",
    "}\n",
    "\n",
    "knn_params = {\n",
    "    \"algorithm\": ['auto', 'ball_tree', 'kd_tree','brute'],\n",
    "    \"weights\": ['uniform', 'distance'],\n",
    "    \"n_neighbors\": [3, 4, 5, 7, 9],\n",
    "}"
   ]
  },
  {
   "cell_type": "code",
   "execution_count": 45,
   "metadata": {
    "id": "9a57c5fd"
   },
   "outputs": [],
   "source": [
    "# Models list for Hyperparameter tuning\n",
    "randomcv_models = [\n",
    "    #('XGBoost', XGBClassifier(), xgboost_params),\n",
    "    (\"RF\", RandomForestClassifier(), rf_params),\n",
    "    (\"KNN\", KNeighborsClassifier(), knn_params)\n",
    "]"
   ]
  },
  {
   "cell_type": "code",
   "execution_count": 50,
   "metadata": {},
   "outputs": [],
   "source": [
    "#params"
   ]
  },
  {
   "cell_type": "markdown",
   "metadata": {
    "id": "723dea97"
   },
   "source": [
    "**Create a function for model training and report which can be used in hyperparameter tuning loop**"
   ]
  },
  {
   "cell_type": "code",
   "execution_count": 51,
   "metadata": {
    "id": "0dc8830b",
    "outputId": "7d73c308-88a2-41c6-a678-62f49819e41b"
   },
   "outputs": [
    {
     "name": "stdout",
     "output_type": "stream",
     "text": [
      "Fitting 3 folds for each of 10 candidates, totalling 30 fits\n",
      "[CV] END ...max_depth=20, max_features=None, n_estimators=50; total time=   0.2s\n",
      "[CV] END ...max_depth=20, max_features=None, n_estimators=50; total time=   0.1s\n",
      "[CV] END ...max_depth=20, max_features=None, n_estimators=50; total time=   0.1s\n",
      "[CV] END ...max_depth=20, max_features=None, n_estimators=10; total time=   0.0s\n",
      "[CV] END ...max_depth=20, max_features=None, n_estimators=10; total time=   0.0s\n",
      "[CV] END ...max_depth=20, max_features=None, n_estimators=10; total time=   0.0s\n",
      "[CV] END ...max_depth=12, max_features=sqrt, n_estimators=50; total time=   0.1s\n",
      "[CV] END ...max_depth=12, max_features=sqrt, n_estimators=50; total time=   0.1s\n",
      "[CV] END ...max_depth=12, max_features=sqrt, n_estimators=50; total time=   0.1s\n",
      "[CV] END ...max_depth=15, max_features=log2, n_estimators=50; total time=   0.1s\n",
      "[CV] END ...max_depth=15, max_features=log2, n_estimators=50; total time=   0.1s\n",
      "[CV] END ...max_depth=15, max_features=log2, n_estimators=50; total time=   0.0s\n",
      "[CV] END ..max_depth=10, max_features=None, n_estimators=100; total time=   0.4s\n",
      "[CV] END ..max_depth=10, max_features=None, n_estimators=100; total time=   0.3s\n",
      "[CV] END ..max_depth=10, max_features=None, n_estimators=100; total time=   0.3s\n",
      "[CV] END ..max_depth=20, max_features=None, n_estimators=200; total time=   0.8s\n",
      "[CV] END ..max_depth=20, max_features=None, n_estimators=200; total time=   0.8s\n",
      "[CV] END ..max_depth=20, max_features=None, n_estimators=200; total time=   0.8s\n",
      "[CV] END ...max_depth=10, max_features=None, n_estimators=10; total time=   0.0s\n",
      "[CV] END ...max_depth=10, max_features=None, n_estimators=10; total time=   0.0s\n",
      "[CV] END ...max_depth=10, max_features=None, n_estimators=10; total time=   0.0s\n",
      "[CV] END ..max_depth=20, max_features=log2, n_estimators=200; total time=   0.5s\n",
      "[CV] END ..max_depth=20, max_features=log2, n_estimators=200; total time=   0.5s\n",
      "[CV] END ..max_depth=20, max_features=log2, n_estimators=200; total time=   0.5s\n",
      "[CV] END .max_depth=None, max_features=None, n_estimators=50; total time=   0.1s\n",
      "[CV] END .max_depth=None, max_features=None, n_estimators=50; total time=   0.1s\n",
      "[CV] END .max_depth=None, max_features=None, n_estimators=50; total time=   0.1s\n",
      "[CV] END ...max_depth=15, max_features=None, n_estimators=10; total time=   0.0s\n",
      "[CV] END ...max_depth=15, max_features=None, n_estimators=10; total time=   0.0s\n",
      "[CV] END ...max_depth=15, max_features=None, n_estimators=10; total time=   0.0s\n",
      "Fitting 3 folds for each of 10 candidates, totalling 30 fits\n",
      "[CV] END algorithm=ball_tree, n_neighbors=3, weights=distance; total time=   0.0s\n",
      "[CV] END algorithm=ball_tree, n_neighbors=3, weights=distance; total time=   0.0s\n",
      "[CV] END algorithm=ball_tree, n_neighbors=3, weights=distance; total time=   0.0s\n",
      "[CV] END .algorithm=kd_tree, n_neighbors=3, weights=distance; total time=   0.0s\n",
      "[CV] END .algorithm=kd_tree, n_neighbors=3, weights=distance; total time=   0.0s\n",
      "[CV] END .algorithm=kd_tree, n_neighbors=3, weights=distance; total time=   0.0s\n",
      "[CV] END algorithm=ball_tree, n_neighbors=7, weights=uniform; total time=   0.0s\n",
      "[CV] END algorithm=ball_tree, n_neighbors=7, weights=uniform; total time=   0.0s\n",
      "[CV] END algorithm=ball_tree, n_neighbors=7, weights=uniform; total time=   0.0s\n",
      "[CV] END algorithm=ball_tree, n_neighbors=3, weights=uniform; total time=   0.0s\n",
      "[CV] END algorithm=ball_tree, n_neighbors=3, weights=uniform; total time=   0.0s\n",
      "[CV] END algorithm=ball_tree, n_neighbors=3, weights=uniform; total time=   0.0s\n",
      "[CV] END ..algorithm=kd_tree, n_neighbors=4, weights=uniform; total time=   0.0s\n",
      "[CV] END ..algorithm=kd_tree, n_neighbors=4, weights=uniform; total time=   0.0s\n",
      "[CV] END ..algorithm=kd_tree, n_neighbors=4, weights=uniform; total time=   0.0s\n",
      "[CV] END .algorithm=kd_tree, n_neighbors=4, weights=distance; total time=   0.0s\n",
      "[CV] END .algorithm=kd_tree, n_neighbors=4, weights=distance; total time=   0.0s\n",
      "[CV] END .algorithm=kd_tree, n_neighbors=4, weights=distance; total time=   0.0s\n",
      "[CV] END algorithm=ball_tree, n_neighbors=9, weights=uniform; total time=   0.0s\n",
      "[CV] END algorithm=ball_tree, n_neighbors=9, weights=uniform; total time=   0.0s\n",
      "[CV] END algorithm=ball_tree, n_neighbors=9, weights=uniform; total time=   0.0s\n",
      "[CV] END algorithm=ball_tree, n_neighbors=5, weights=uniform; total time=   0.0s\n",
      "[CV] END algorithm=ball_tree, n_neighbors=5, weights=uniform; total time=   0.0s\n",
      "[CV] END algorithm=ball_tree, n_neighbors=5, weights=uniform; total time=   0.0s\n",
      "[CV] END ..algorithm=kd_tree, n_neighbors=7, weights=uniform; total time=   0.0s\n",
      "[CV] END ..algorithm=kd_tree, n_neighbors=7, weights=uniform; total time=   0.0s\n",
      "[CV] END ..algorithm=kd_tree, n_neighbors=7, weights=uniform; total time=   0.0s\n",
      "[CV] END .....algorithm=auto, n_neighbors=3, weights=uniform; total time=   0.0s\n",
      "[CV] END .....algorithm=auto, n_neighbors=3, weights=uniform; total time=   0.0s\n",
      "[CV] END .....algorithm=auto, n_neighbors=3, weights=uniform; total time=   0.0s\n",
      "---------------- Best Params for RF -------------------\n",
      "{'n_estimators': 50, 'max_features': 'sqrt', 'max_depth': 12}\n",
      "---------------- Best Params for KNN -------------------\n",
      "{'weights': 'distance', 'n_neighbors': 3, 'algorithm': 'ball_tree'}\n"
     ]
    }
   ],
   "source": [
    "from sklearn.model_selection import RandomizedSearchCV\n",
    "\n",
    "model_param = {}\n",
    "for name, model, params in randomcv_models:\n",
    "    random = RandomizedSearchCV(estimator=model,\n",
    "                                   param_distributions=params,\n",
    "                                   n_iter=10,\n",
    "                                   cv=3,\n",
    "                                   verbose=2, \n",
    "                                   n_jobs=None)\n",
    "    random.fit(X_res, y_res)\n",
    "    model_param[name] = random.best_params_\n",
    "\n",
    "for model_name in model_param:\n",
    "    print(f\"---------------- Best Params for {model_name} -------------------\")\n",
    "    print(model_param[model_name])"
   ]
  },
  {
   "cell_type": "code",
   "execution_count": 52,
   "metadata": {},
   "outputs": [
    {
     "data": {
      "text/plain": [
       "{'RF': {'n_estimators': 50, 'max_features': 'sqrt', 'max_depth': 12},\n",
       " 'KNN': {'weights': 'distance', 'n_neighbors': 3, 'algorithm': 'ball_tree'}}"
      ]
     },
     "execution_count": 52,
     "metadata": {},
     "output_type": "execute_result"
    }
   ],
   "source": [
    "model_param"
   ]
  },
  {
   "cell_type": "markdown",
   "metadata": {
    "id": "616ebc0a"
   },
   "source": [
    "## Retraining the Model with best Parameters"
   ]
  },
  {
   "cell_type": "code",
   "execution_count": 53,
   "metadata": {
    "id": "5738ae2c",
    "outputId": "25600fb4-c963-4bf7-ba2c-d02cf4d5962e"
   },
   "outputs": [
    {
     "name": "stdout",
     "output_type": "stream",
     "text": [
      "Random Forest Classifier\n",
      "Model performance for Training set\n",
      "- Accuracy: 1.0000\n",
      "- F1 score: 1.0000\n",
      "- Precision: 1.0000\n",
      "- Recall: 1.0000\n",
      "- Roc Auc Score: 1.0000\n",
      "----------------------------------\n",
      "Model performance for Test set\n",
      "- Accuracy: 0.9596\n",
      "- F1 score: 0.9500\n",
      "- Precision: 0.9500\n",
      "- Recall: 0.9500\n",
      "- Roc Auc Score: 0.9581\n",
      "===================================\n",
      "\n",
      "\n",
      "KNeighborsClassifier\n",
      "Model performance for Training set\n",
      "- Accuracy: 1.0000\n",
      "- F1 score: 1.0000\n",
      "- Precision: 1.0000\n",
      "- Recall: 1.0000\n",
      "- Roc Auc Score: 1.0000\n",
      "----------------------------------\n",
      "Model performance for Test set\n",
      "- Accuracy: 0.9798\n",
      "- F1 score: 0.9744\n",
      "- Precision: 1.0000\n",
      "- Recall: 0.9500\n",
      "- Roc Auc Score: 0.9750\n",
      "===================================\n",
      "\n",
      "\n"
     ]
    }
   ],
   "source": [
    "from sklearn.metrics import roc_auc_score,roc_curve\n",
    "best_models = {\n",
    "    \"Random Forest Classifier\": RandomForestClassifier(**model_param['RF']),\n",
    "    \"KNeighborsClassifier\": KNeighborsClassifier(**model_param['KNN']),\n",
    "    #\"XGBClassifier\": XGBClassifier(**model_param['XGBoost'],n_jobs=-1),\n",
    "}\n",
    "tuned_report =evaluate_models(X=X_res, y=y_res, models=best_models)"
   ]
  },
  {
   "cell_type": "code",
   "execution_count": 54,
   "metadata": {
    "id": "3ebcc3e2",
    "outputId": "870a295b-85c5-4204-cb8f-178bc6ccd9a6"
   },
   "outputs": [
    {
     "data": {
      "text/html": [
       "<div>\n",
       "<style scoped>\n",
       "    .dataframe tbody tr th:only-of-type {\n",
       "        vertical-align: middle;\n",
       "    }\n",
       "\n",
       "    .dataframe tbody tr th {\n",
       "        vertical-align: top;\n",
       "    }\n",
       "\n",
       "    .dataframe thead th {\n",
       "        text-align: right;\n",
       "    }\n",
       "</style>\n",
       "<table border=\"1\" class=\"dataframe\">\n",
       "  <thead>\n",
       "    <tr style=\"text-align: right;\">\n",
       "      <th></th>\n",
       "      <th>Model Name</th>\n",
       "      <th>Accuracy</th>\n",
       "    </tr>\n",
       "  </thead>\n",
       "  <tbody>\n",
       "    <tr>\n",
       "      <th>1</th>\n",
       "      <td>KNeighborsClassifier</td>\n",
       "      <td>0.979798</td>\n",
       "    </tr>\n",
       "    <tr>\n",
       "      <th>0</th>\n",
       "      <td>Random Forest Classifier</td>\n",
       "      <td>0.959596</td>\n",
       "    </tr>\n",
       "  </tbody>\n",
       "</table>\n",
       "</div>"
      ],
      "text/plain": [
       "                 Model Name  Accuracy\n",
       "1      KNeighborsClassifier  0.979798\n",
       "0  Random Forest Classifier  0.959596"
      ]
     },
     "execution_count": 54,
     "metadata": {},
     "output_type": "execute_result"
    }
   ],
   "source": [
    "tuned_report"
   ]
  },
  {
   "cell_type": "code",
   "execution_count": 55,
   "metadata": {
    "id": "a4beb9bb",
    "outputId": "fde92afe-af72-428a-e4d9-d44a094b28ad"
   },
   "outputs": [
    {
     "name": "stdout",
     "output_type": "stream",
     "text": [
      "FINAL MODEL 'KNN'\n",
      "Accuracy Score value: 0.9798\n",
      "              precision    recall  f1-score   support\n",
      "\n",
      "           0       0.97      1.00      0.98        59\n",
      "           1       1.00      0.95      0.97        40\n",
      "\n",
      "    accuracy                           0.98        99\n",
      "   macro avg       0.98      0.97      0.98        99\n",
      "weighted avg       0.98      0.98      0.98        99\n",
      "\n"
     ]
    }
   ],
   "source": [
    "best_model = KNeighborsClassifier(**model_param['KNN'])\n",
    "best_model = best_model.fit(X_train,y_train)\n",
    "y_pred = best_model.predict(X_test)\n",
    "score = accuracy_score(y_test,y_pred)\n",
    "cr = classification_report(y_test,y_pred)\n",
    "\n",
    "print(\"FINAL MODEL 'KNN'\")\n",
    "print (\"Accuracy Score value: {:.4f}\".format(score))\n",
    "print (cr)"
   ]
  },
  {
   "cell_type": "code",
   "execution_count": 56,
   "metadata": {
    "id": "8bd89efe",
    "outputId": "3078255a-0670-492a-8d4a-ab6aa891ef2f"
   },
   "outputs": [
    {
     "data": {
      "text/plain": [
       "<sklearn.metrics._plot.confusion_matrix.ConfusionMatrixDisplay at 0x201e640f4a8>"
      ]
     },
     "execution_count": 56,
     "metadata": {},
     "output_type": "execute_result"
    },
    {
     "data": {
      "image/png": "[encoded data removed]",
      "text/plain": [
       "<Figure size 432x288 with 2 Axes>"
      ]
     },
     "metadata": {
      "needs_background": "light"
     },
     "output_type": "display_data"
    }
   ],
   "source": [
    "from sklearn.metrics import ConfusionMatrixDisplay\n",
    "ConfusionMatrixDisplay.from_estimator(best_model, X_test, y_test)"
   ]
  },
  {
   "cell_type": "markdown",
   "metadata": {
    "id": "84d34671"
   },
   "source": [
    "## Best Model is K-Nearest Neighbor(KNN) with Accuracy 96.66%"
   ]
  },
  {
   "cell_type": "code",
   "execution_count": null,
   "metadata": {},
   "outputs": [],
   "source": []
  },
  {
   "cell_type": "code",
   "execution_count": null,
   "metadata": {},
   "outputs": [],
   "source": []
  }
 ],
 "metadata": {
  "colab": {
   "provenance": []
  },
  "kernelspec": {
   "display_name": "Python 3",
   "language": "python",
   "name": "python3"
  },
  "language_info": {
   "codemirror_mode": {
    "name": "ipython",
    "version": 3
   },
   "file_extension": ".py",
   "mimetype": "text/x-python",
   "name": "python",
   "nbconvert_exporter": "python",
   "pygments_lexer": "ipython3",
   "version": "3.7.3"
  },
  "vscode": {
   "interpreter": {
    "hash": "e6422fc631fadc7a14dbe43d10d544a88c5583408f68c588bbe9704b9c540dab"
   }
  }
 },
 "nbformat": 4,
 "nbformat_minor": 5
}
